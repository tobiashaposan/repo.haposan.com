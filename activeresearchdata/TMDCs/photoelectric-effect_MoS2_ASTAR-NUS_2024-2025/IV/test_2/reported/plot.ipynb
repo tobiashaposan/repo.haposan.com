{
 "cells": [
  {
   "cell_type": "code",
   "execution_count": 1,
   "metadata": {},
   "outputs": [],
   "source": [
    "#plot all csv files in one graph\n",
    "import matplotlib.pyplot as plt\n",
    "import pandas as pd\n",
    "import os\n",
    "import sys\n",
    "\n",
    "#plot all csv fuke with o_2_4_g34 in file name in one graph\n",
    "def plot_all_csv_files():\n",
    "    #get all csv files in current directory\n",
    "    csv_files = [f for f in os.listdir('.') if f.endswith('.csv') and 'o_2_4_g34' in f]\n",
    "    #create a list to store all dataframes\n",
    "    dfs = []\n",
    "    #read all csv files and store them in dfs\n",
    "    for f in csv_files:\n",
    "        dfs.append(pd.read_csv(f))\n",
    "    #plot all dataframes in dfs\n",
    "    for df in dfs:\n",
    "        plt.plot(df['time'], df['value'])\n",
    "    plt.show()\n",
    "    "
   ]
  }
 ],
 "metadata": {
  "kernelspec": {
   "display_name": "mi",
   "language": "python",
   "name": "python3"
  },
  "language_info": {
   "codemirror_mode": {
    "name": "ipython",
    "version": 3
   },
   "file_extension": ".py",
   "mimetype": "text/x-python",
   "name": "python",
   "nbconvert_exporter": "python",
   "pygments_lexer": "ipython3",
   "version": "3.12.9"
  }
 },
 "nbformat": 4,
 "nbformat_minor": 2
}
